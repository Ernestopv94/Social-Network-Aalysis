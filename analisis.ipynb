{
 "cells": [
  {
   "cell_type": "markdown",
   "metadata": {},
   "source": [
    "Este notebook está creado a partir del ejemplo proporcionado por el profesor Antonio Rodríguez Anaya y contiene parte del código que él desarrolló."
   ]
  },
  {
   "cell_type": "code",
   "execution_count": 1,
   "metadata": {},
   "outputs": [],
   "source": [
    "#Import\n",
    "import os\n",
    "import pandas as pd\n",
    "import numpy as np\n",
    "import sklearn as skl\n",
    "from scipy import stats\n",
    "from sklearn.cluster import KMeans\n",
    "from sklearn import metrics\n",
    "from numpy import nan\n",
    "import matplotlib.pyplot as plt\n",
    "import seaborn as sn\n",
    "import collections"
   ]
  },
  {
   "cell_type": "markdown",
   "metadata": {},
   "source": [
    "## Métricas"
   ]
  },
  {
   "cell_type": "code",
   "execution_count": 2,
   "metadata": {
    "scrolled": true
   },
   "outputs": [
    {
     "data": {
      "text/html": [
       "<div>\n",
       "<style scoped>\n",
       "    .dataframe tbody tr th:only-of-type {\n",
       "        vertical-align: middle;\n",
       "    }\n",
       "\n",
       "    .dataframe tbody tr th {\n",
       "        vertical-align: top;\n",
       "    }\n",
       "\n",
       "    .dataframe thead th {\n",
       "        text-align: right;\n",
       "    }\n",
       "</style>\n",
       "<table border=\"1\" class=\"dataframe\">\n",
       "  <thead>\n",
       "    <tr style=\"text-align: right;\">\n",
       "      <th></th>\n",
       "      <th>Id</th>\n",
       "      <th>weighted indegree</th>\n",
       "      <th>weighted outdegree</th>\n",
       "      <th>eigencentrality</th>\n",
       "      <th>modularity_class</th>\n",
       "      <th>partido</th>\n",
       "    </tr>\n",
       "  </thead>\n",
       "  <tbody>\n",
       "    <tr>\n",
       "      <th>0</th>\n",
       "      <td>rita_maestre</td>\n",
       "      <td>293</td>\n",
       "      <td>47</td>\n",
       "      <td>0.727445</td>\n",
       "      <td>2</td>\n",
       "      <td>MásMadrid</td>\n",
       "    </tr>\n",
       "    <tr>\n",
       "      <th>1</th>\n",
       "      <td>jorgegcastano</td>\n",
       "      <td>133</td>\n",
       "      <td>216</td>\n",
       "      <td>0.379229</td>\n",
       "      <td>2</td>\n",
       "      <td>MásMadrid</td>\n",
       "    </tr>\n",
       "    <tr>\n",
       "      <th>2</th>\n",
       "      <td>jlnietob</td>\n",
       "      <td>43</td>\n",
       "      <td>118</td>\n",
       "      <td>0.229846</td>\n",
       "      <td>2</td>\n",
       "      <td>MásMadrid</td>\n",
       "    </tr>\n",
       "    <tr>\n",
       "      <th>3</th>\n",
       "      <td>esther_gomez_m</td>\n",
       "      <td>129</td>\n",
       "      <td>130</td>\n",
       "      <td>0.418827</td>\n",
       "      <td>2</td>\n",
       "      <td>MásMadrid</td>\n",
       "    </tr>\n",
       "    <tr>\n",
       "      <th>4</th>\n",
       "      <td>javierbarberog</td>\n",
       "      <td>86</td>\n",
       "      <td>51</td>\n",
       "      <td>0.344406</td>\n",
       "      <td>2</td>\n",
       "      <td>MásMadrid</td>\n",
       "    </tr>\n",
       "    <tr>\n",
       "      <th>5</th>\n",
       "      <td>almeidapp_</td>\n",
       "      <td>857</td>\n",
       "      <td>10</td>\n",
       "      <td>1.000000</td>\n",
       "      <td>0</td>\n",
       "      <td>PP</td>\n",
       "    </tr>\n",
       "    <tr>\n",
       "      <th>6</th>\n",
       "      <td>alevysoler</td>\n",
       "      <td>102</td>\n",
       "      <td>5</td>\n",
       "      <td>0.684134</td>\n",
       "      <td>0</td>\n",
       "      <td>PP</td>\n",
       "    </tr>\n",
       "    <tr>\n",
       "      <th>7</th>\n",
       "      <td>bcarabante</td>\n",
       "      <td>316</td>\n",
       "      <td>91</td>\n",
       "      <td>0.869741</td>\n",
       "      <td>0</td>\n",
       "      <td>PP</td>\n",
       "    </tr>\n",
       "    <tr>\n",
       "      <th>8</th>\n",
       "      <td>begonavillacis</td>\n",
       "      <td>487</td>\n",
       "      <td>76</td>\n",
       "      <td>0.817420</td>\n",
       "      <td>3</td>\n",
       "      <td>Ciudadanos</td>\n",
       "    </tr>\n",
       "    <tr>\n",
       "      <th>9</th>\n",
       "      <td>enmalopez</td>\n",
       "      <td>109</td>\n",
       "      <td>320</td>\n",
       "      <td>0.578985</td>\n",
       "      <td>1</td>\n",
       "      <td>PSOE</td>\n",
       "    </tr>\n",
       "    <tr>\n",
       "      <th>10</th>\n",
       "      <td>marbarberanp</td>\n",
       "      <td>45</td>\n",
       "      <td>68</td>\n",
       "      <td>0.321457</td>\n",
       "      <td>2</td>\n",
       "      <td>MásMadrid</td>\n",
       "    </tr>\n",
       "    <tr>\n",
       "      <th>11</th>\n",
       "      <td>espinar_mar</td>\n",
       "      <td>162</td>\n",
       "      <td>226</td>\n",
       "      <td>0.475129</td>\n",
       "      <td>0</td>\n",
       "      <td>PSOE</td>\n",
       "    </tr>\n",
       "    <tr>\n",
       "      <th>12</th>\n",
       "      <td>ignaciobenitop</td>\n",
       "      <td>86</td>\n",
       "      <td>340</td>\n",
       "      <td>0.367023</td>\n",
       "      <td>1</td>\n",
       "      <td>PSOE</td>\n",
       "    </tr>\n",
       "    <tr>\n",
       "      <th>13</th>\n",
       "      <td>pacoperezramos</td>\n",
       "      <td>80</td>\n",
       "      <td>50</td>\n",
       "      <td>0.281954</td>\n",
       "      <td>2</td>\n",
       "      <td>MásMadrid</td>\n",
       "    </tr>\n",
       "    <tr>\n",
       "      <th>14</th>\n",
       "      <td>fernandezsj</td>\n",
       "      <td>62</td>\n",
       "      <td>166</td>\n",
       "      <td>0.547901</td>\n",
       "      <td>0</td>\n",
       "      <td>PP</td>\n",
       "    </tr>\n",
       "    <tr>\n",
       "      <th>15</th>\n",
       "      <td>miguelmontejo74</td>\n",
       "      <td>130</td>\n",
       "      <td>337</td>\n",
       "      <td>0.422725</td>\n",
       "      <td>2</td>\n",
       "      <td>MásMadrid</td>\n",
       "    </tr>\n",
       "    <tr>\n",
       "      <th>16</th>\n",
       "      <td>felixlopez_rey</td>\n",
       "      <td>93</td>\n",
       "      <td>613</td>\n",
       "      <td>0.382572</td>\n",
       "      <td>2</td>\n",
       "      <td>MásMadrid</td>\n",
       "    </tr>\n",
       "    <tr>\n",
       "      <th>17</th>\n",
       "      <td>palomagromero</td>\n",
       "      <td>119</td>\n",
       "      <td>99</td>\n",
       "      <td>0.656876</td>\n",
       "      <td>0</td>\n",
       "      <td>PP</td>\n",
       "    </tr>\n",
       "    <tr>\n",
       "      <th>18</th>\n",
       "      <td>cayehdelariva</td>\n",
       "      <td>32</td>\n",
       "      <td>38</td>\n",
       "      <td>0.302738</td>\n",
       "      <td>0</td>\n",
       "      <td>PP</td>\n",
       "    </tr>\n",
       "    <tr>\n",
       "      <th>19</th>\n",
       "      <td>bpinedotex</td>\n",
       "      <td>30</td>\n",
       "      <td>41</td>\n",
       "      <td>0.468513</td>\n",
       "      <td>0</td>\n",
       "      <td>PP</td>\n",
       "    </tr>\n",
       "    <tr>\n",
       "      <th>20</th>\n",
       "      <td>ramonsilvab</td>\n",
       "      <td>151</td>\n",
       "      <td>126</td>\n",
       "      <td>0.366447</td>\n",
       "      <td>3</td>\n",
       "      <td>PSOE</td>\n",
       "    </tr>\n",
       "    <tr>\n",
       "      <th>21</th>\n",
       "      <td>marianofuentess</td>\n",
       "      <td>185</td>\n",
       "      <td>52</td>\n",
       "      <td>0.544290</td>\n",
       "      <td>4</td>\n",
       "      <td>Ciudadanos</td>\n",
       "    </tr>\n",
       "    <tr>\n",
       "      <th>22</th>\n",
       "      <td>serranoalbertop</td>\n",
       "      <td>177</td>\n",
       "      <td>304</td>\n",
       "      <td>0.627882</td>\n",
       "      <td>3</td>\n",
       "      <td>Ciudadanos</td>\n",
       "    </tr>\n",
       "    <tr>\n",
       "      <th>23</th>\n",
       "      <td>amandaromero_g</td>\n",
       "      <td>24</td>\n",
       "      <td>30</td>\n",
       "      <td>0.225879</td>\n",
       "      <td>2</td>\n",
       "      <td>MásMadrid</td>\n",
       "    </tr>\n",
       "    <tr>\n",
       "      <th>24</th>\n",
       "      <td>karolina_pulido</td>\n",
       "      <td>31</td>\n",
       "      <td>75</td>\n",
       "      <td>0.191926</td>\n",
       "      <td>2</td>\n",
       "      <td>MásMadrid</td>\n",
       "    </tr>\n",
       "    <tr>\n",
       "      <th>25</th>\n",
       "      <td>alvaroglopez</td>\n",
       "      <td>29</td>\n",
       "      <td>24</td>\n",
       "      <td>0.401919</td>\n",
       "      <td>0</td>\n",
       "      <td>PP</td>\n",
       "    </tr>\n",
       "    <tr>\n",
       "      <th>26</th>\n",
       "      <td>loretosord</td>\n",
       "      <td>74</td>\n",
       "      <td>162</td>\n",
       "      <td>0.573306</td>\n",
       "      <td>0</td>\n",
       "      <td>PP</td>\n",
       "    </tr>\n",
       "    <tr>\n",
       "      <th>27</th>\n",
       "      <td>aniortepepe</td>\n",
       "      <td>240</td>\n",
       "      <td>305</td>\n",
       "      <td>0.789600</td>\n",
       "      <td>4</td>\n",
       "      <td>Ciudadanos</td>\n",
       "    </tr>\n",
       "    <tr>\n",
       "      <th>28</th>\n",
       "      <td>conchachapa_</td>\n",
       "      <td>109</td>\n",
       "      <td>57</td>\n",
       "      <td>0.621175</td>\n",
       "      <td>1</td>\n",
       "      <td>Ciudadanos</td>\n",
       "    </tr>\n",
       "    <tr>\n",
       "      <th>29</th>\n",
       "      <td>luiscueto12</td>\n",
       "      <td>20</td>\n",
       "      <td>34</td>\n",
       "      <td>0.237692</td>\n",
       "      <td>2</td>\n",
       "      <td>GrupoMixto</td>\n",
       "    </tr>\n",
       "    <tr>\n",
       "      <th>30</th>\n",
       "      <td>mpilarcuca</td>\n",
       "      <td>0</td>\n",
       "      <td>75</td>\n",
       "      <td>0.000000</td>\n",
       "      <td>4</td>\n",
       "      <td>MásMadrid</td>\n",
       "    </tr>\n",
       "    <tr>\n",
       "      <th>31</th>\n",
       "      <td>josemanuel_co</td>\n",
       "      <td>43</td>\n",
       "      <td>106</td>\n",
       "      <td>0.395419</td>\n",
       "      <td>4</td>\n",
       "      <td>GrupoMixto</td>\n",
       "    </tr>\n",
       "    <tr>\n",
       "      <th>32</th>\n",
       "      <td>fmartinezvidal_</td>\n",
       "      <td>22</td>\n",
       "      <td>22</td>\n",
       "      <td>0.188967</td>\n",
       "      <td>5</td>\n",
       "      <td>VOX</td>\n",
       "    </tr>\n",
       "    <tr>\n",
       "      <th>33</th>\n",
       "      <td>mcasariegocor</td>\n",
       "      <td>61</td>\n",
       "      <td>66</td>\n",
       "      <td>0.440705</td>\n",
       "      <td>3</td>\n",
       "      <td>Ciudadanos</td>\n",
       "    </tr>\n",
       "    <tr>\n",
       "      <th>34</th>\n",
       "      <td>angelninoq</td>\n",
       "      <td>130</td>\n",
       "      <td>19</td>\n",
       "      <td>0.434329</td>\n",
       "      <td>4</td>\n",
       "      <td>Ciudadanos</td>\n",
       "    </tr>\n",
       "    <tr>\n",
       "      <th>35</th>\n",
       "      <td>emiliamgarrido</td>\n",
       "      <td>50</td>\n",
       "      <td>22</td>\n",
       "      <td>0.239640</td>\n",
       "      <td>1</td>\n",
       "      <td>PSOE</td>\n",
       "    </tr>\n",
       "    <tr>\n",
       "      <th>36</th>\n",
       "      <td>inmasanzo</td>\n",
       "      <td>39</td>\n",
       "      <td>47</td>\n",
       "      <td>0.383376</td>\n",
       "      <td>0</td>\n",
       "      <td>PP</td>\n",
       "    </tr>\n",
       "    <tr>\n",
       "      <th>37</th>\n",
       "      <td>cabelloarantxa</td>\n",
       "      <td>22</td>\n",
       "      <td>84</td>\n",
       "      <td>0.237745</td>\n",
       "      <td>5</td>\n",
       "      <td>VOX</td>\n",
       "    </tr>\n",
       "    <tr>\n",
       "      <th>38</th>\n",
       "      <td>sofia_miranda_</td>\n",
       "      <td>50</td>\n",
       "      <td>0</td>\n",
       "      <td>0.198750</td>\n",
       "      <td>4</td>\n",
       "      <td>Ciudadanos</td>\n",
       "    </tr>\n",
       "    <tr>\n",
       "      <th>39</th>\n",
       "      <td>douasmaysoun</td>\n",
       "      <td>5</td>\n",
       "      <td>0</td>\n",
       "      <td>0.046596</td>\n",
       "      <td>2</td>\n",
       "      <td>MásMadrid</td>\n",
       "    </tr>\n",
       "    <tr>\n",
       "      <th>40</th>\n",
       "      <td>ortega_smith</td>\n",
       "      <td>82</td>\n",
       "      <td>9</td>\n",
       "      <td>0.297244</td>\n",
       "      <td>3</td>\n",
       "      <td>VOX</td>\n",
       "    </tr>\n",
       "    <tr>\n",
       "      <th>41</th>\n",
       "      <td>soniacq</td>\n",
       "      <td>31</td>\n",
       "      <td>116</td>\n",
       "      <td>0.288790</td>\n",
       "      <td>0</td>\n",
       "      <td>PP</td>\n",
       "    </tr>\n",
       "    <tr>\n",
       "      <th>42</th>\n",
       "      <td>jrcramirez</td>\n",
       "      <td>20</td>\n",
       "      <td>104</td>\n",
       "      <td>0.269701</td>\n",
       "      <td>0</td>\n",
       "      <td>PP</td>\n",
       "    </tr>\n",
       "    <tr>\n",
       "      <th>43</th>\n",
       "      <td>almudena_maillo</td>\n",
       "      <td>9</td>\n",
       "      <td>0</td>\n",
       "      <td>0.154400</td>\n",
       "      <td>0</td>\n",
       "      <td>PP</td>\n",
       "    </tr>\n",
       "    <tr>\n",
       "      <th>44</th>\n",
       "      <td>nataliacera</td>\n",
       "      <td>20</td>\n",
       "      <td>39</td>\n",
       "      <td>0.143101</td>\n",
       "      <td>1</td>\n",
       "      <td>PSOE</td>\n",
       "    </tr>\n",
       "    <tr>\n",
       "      <th>45</th>\n",
       "      <td>maredondor</td>\n",
       "      <td>0</td>\n",
       "      <td>101</td>\n",
       "      <td>0.000000</td>\n",
       "      <td>3</td>\n",
       "      <td>Ciudadanos</td>\n",
       "    </tr>\n",
       "    <tr>\n",
       "      <th>46</th>\n",
       "      <td>silviasaavedral</td>\n",
       "      <td>3</td>\n",
       "      <td>0</td>\n",
       "      <td>0.071176</td>\n",
       "      <td>1</td>\n",
       "      <td>Ciudadanos</td>\n",
       "    </tr>\n",
       "  </tbody>\n",
       "</table>\n",
       "</div>"
      ],
      "text/plain": [
       "                 Id  weighted indegree  weighted outdegree  eigencentrality  \\\n",
       "0      rita_maestre                293                  47         0.727445   \n",
       "1     jorgegcastano                133                 216         0.379229   \n",
       "2          jlnietob                 43                 118         0.229846   \n",
       "3    esther_gomez_m                129                 130         0.418827   \n",
       "4    javierbarberog                 86                  51         0.344406   \n",
       "5        almeidapp_                857                  10         1.000000   \n",
       "6        alevysoler                102                   5         0.684134   \n",
       "7        bcarabante                316                  91         0.869741   \n",
       "8    begonavillacis                487                  76         0.817420   \n",
       "9         enmalopez                109                 320         0.578985   \n",
       "10     marbarberanp                 45                  68         0.321457   \n",
       "11      espinar_mar                162                 226         0.475129   \n",
       "12   ignaciobenitop                 86                 340         0.367023   \n",
       "13   pacoperezramos                 80                  50         0.281954   \n",
       "14      fernandezsj                 62                 166         0.547901   \n",
       "15  miguelmontejo74                130                 337         0.422725   \n",
       "16   felixlopez_rey                 93                 613         0.382572   \n",
       "17    palomagromero                119                  99         0.656876   \n",
       "18    cayehdelariva                 32                  38         0.302738   \n",
       "19       bpinedotex                 30                  41         0.468513   \n",
       "20      ramonsilvab                151                 126         0.366447   \n",
       "21  marianofuentess                185                  52         0.544290   \n",
       "22  serranoalbertop                177                 304         0.627882   \n",
       "23   amandaromero_g                 24                  30         0.225879   \n",
       "24  karolina_pulido                 31                  75         0.191926   \n",
       "25     alvaroglopez                 29                  24         0.401919   \n",
       "26       loretosord                 74                 162         0.573306   \n",
       "27      aniortepepe                240                 305         0.789600   \n",
       "28     conchachapa_                109                  57         0.621175   \n",
       "29      luiscueto12                 20                  34         0.237692   \n",
       "30       mpilarcuca                  0                  75         0.000000   \n",
       "31    josemanuel_co                 43                 106         0.395419   \n",
       "32  fmartinezvidal_                 22                  22         0.188967   \n",
       "33    mcasariegocor                 61                  66         0.440705   \n",
       "34       angelninoq                130                  19         0.434329   \n",
       "35   emiliamgarrido                 50                  22         0.239640   \n",
       "36        inmasanzo                 39                  47         0.383376   \n",
       "37   cabelloarantxa                 22                  84         0.237745   \n",
       "38   sofia_miranda_                 50                   0         0.198750   \n",
       "39     douasmaysoun                  5                   0         0.046596   \n",
       "40     ortega_smith                 82                   9         0.297244   \n",
       "41          soniacq                 31                 116         0.288790   \n",
       "42       jrcramirez                 20                 104         0.269701   \n",
       "43  almudena_maillo                  9                   0         0.154400   \n",
       "44      nataliacera                 20                  39         0.143101   \n",
       "45       maredondor                  0                 101         0.000000   \n",
       "46  silviasaavedral                  3                   0         0.071176   \n",
       "\n",
       "    modularity_class     partido  \n",
       "0                  2   MásMadrid  \n",
       "1                  2   MásMadrid  \n",
       "2                  2   MásMadrid  \n",
       "3                  2   MásMadrid  \n",
       "4                  2   MásMadrid  \n",
       "5                  0          PP  \n",
       "6                  0          PP  \n",
       "7                  0          PP  \n",
       "8                  3  Ciudadanos  \n",
       "9                  1        PSOE  \n",
       "10                 2   MásMadrid  \n",
       "11                 0        PSOE  \n",
       "12                 1        PSOE  \n",
       "13                 2   MásMadrid  \n",
       "14                 0          PP  \n",
       "15                 2   MásMadrid  \n",
       "16                 2   MásMadrid  \n",
       "17                 0          PP  \n",
       "18                 0          PP  \n",
       "19                 0          PP  \n",
       "20                 3        PSOE  \n",
       "21                 4  Ciudadanos  \n",
       "22                 3  Ciudadanos  \n",
       "23                 2   MásMadrid  \n",
       "24                 2   MásMadrid  \n",
       "25                 0          PP  \n",
       "26                 0          PP  \n",
       "27                 4  Ciudadanos  \n",
       "28                 1  Ciudadanos  \n",
       "29                 2  GrupoMixto  \n",
       "30                 4   MásMadrid  \n",
       "31                 4  GrupoMixto  \n",
       "32                 5         VOX  \n",
       "33                 3  Ciudadanos  \n",
       "34                 4  Ciudadanos  \n",
       "35                 1        PSOE  \n",
       "36                 0          PP  \n",
       "37                 5         VOX  \n",
       "38                 4  Ciudadanos  \n",
       "39                 2   MásMadrid  \n",
       "40                 3         VOX  \n",
       "41                 0          PP  \n",
       "42                 0          PP  \n",
       "43                 0          PP  \n",
       "44                 1        PSOE  \n",
       "45                 3  Ciudadanos  \n",
       "46                 1  Ciudadanos  "
      ]
     },
     "execution_count": 2,
     "metadata": {},
     "output_type": "execute_result"
    }
   ],
   "source": [
    "# Lee el csv con las métricas\n",
    "df_metricas = pd.read_csv('metricas.csv')\n",
    "\n",
    "# Quita las métricas que no nos interesan\n",
    "df_metricas = df_metricas.drop(columns = ['Label','timeset','Eccentricity','harmonicclosnesscentrality','weighted degree',\n",
    "                                          'closnesscentrality','betweenesscentrality'])\n",
    "\n",
    "# Lee el csv con la lista de concejales\n",
    "df_concejales = pd.read_csv('concejales.csv')\n",
    "\n",
    "# Pasa los username a minúscula para que esté cono en df_metricas\n",
    "df_concejales['username'] = df_concejales['username'].str.lower()\n",
    "\n",
    "# Convierte el campo 'username' en índice para luego hacer el join\n",
    "df_concejales = df_concejales.set_index('username')\n",
    "\n",
    "# Lista de métricas que se van a usar\n",
    "lista_metricas = ['weighted indegree', 'weighted outdegree', 'eigencentrality']\n",
    "\n",
    "# Hace un join para que df_metricas tenga info sobre los partidos\n",
    "df_metricas = df_metricas.join(df_concejales, on='Id')\n",
    "df_metricas"
   ]
  },
  {
   "cell_type": "code",
   "execution_count": 3,
   "metadata": {},
   "outputs": [],
   "source": [
    "# Agrupa por partidos para sacar la media de las métricas\n",
    "df_mean = df_metricas.groupby('partido').mean()\n",
    "\n",
    "# Saca una lista con los partidos\n",
    "lista_partidos = df_mean.index"
   ]
  },
  {
   "cell_type": "markdown",
   "metadata": {},
   "source": [
    "A continuación se dibujan bar plots comparando la media de las métricas de los partidos"
   ]
  },
  {
   "cell_type": "code",
   "execution_count": 4,
   "metadata": {},
   "outputs": [
    {
     "data": {
      "image/png": "[encoded data removed]",
      "text/plain": [
       "<Figure size 864x432 with 1 Axes>"
      ]
     },
     "metadata": {
      "needs_background": "light"
     },
     "output_type": "display_data"
    }
   ],
   "source": [
    "fig = plt.figure(figsize = (12, 6))\n",
    "\n",
    "plt.bar(lista_partidos, df_mean['weighted indegree'], \n",
    "        width = 0.5)\n",
    "plt.xlabel(\"Partidos\")\n",
    "plt.ylabel(\"Grado de entrada ponderado\")\n",
    "plt.show()"
   ]
  },
  {
   "cell_type": "code",
   "execution_count": 5,
   "metadata": {},
   "outputs": [
    {
     "data": {
      "image/png": "[encoded data removed]",
      "text/plain": [
       "<Figure size 864x432 with 1 Axes>"
      ]
     },
     "metadata": {
      "needs_background": "light"
     },
     "output_type": "display_data"
    }
   ],
   "source": [
    "fig = plt.figure(figsize = (12, 6))\n",
    "\n",
    "plt.bar(lista_partidos, df_mean['weighted outdegree'], \n",
    "        width = 0.5)\n",
    "plt.xlabel(\"Partidos\")\n",
    "plt.ylabel(\"Grado de salida ponderado\")\n",
    "plt.show()"
   ]
  },
  {
   "cell_type": "code",
   "execution_count": 6,
   "metadata": {},
   "outputs": [
    {
     "data": {
      "image/png": "[encoded data removed]",
      "text/plain": [
       "<Figure size 864x432 with 1 Axes>"
      ]
     },
     "metadata": {
      "needs_background": "light"
     },
     "output_type": "display_data"
    }
   ],
   "source": [
    "fig = plt.figure(figsize = (12, 6))\n",
    "\n",
    "plt.bar(lista_partidos, df_mean['eigencentrality'], \n",
    "        width = 0.5)\n",
    "plt.xlabel(\"Partidos\")\n",
    "plt.ylabel(\"Centralidad de vector propio\")\n",
    "plt.show()"
   ]
  },
  {
   "cell_type": "markdown",
   "metadata": {},
   "source": [
    "A continuación se hace un histograma de cada métrica."
   ]
  },
  {
   "cell_type": "code",
   "execution_count": 7,
   "metadata": {
    "scrolled": true
   },
   "outputs": [
    {
     "data": {
      "image/png": "[encoded data removed]",
      "text/plain": [
       "<Figure size 864x432 with 1 Axes>"
      ]
     },
     "metadata": {
      "needs_background": "light"
     },
     "output_type": "display_data"
    },
    {
     "data": {
      "image/png": "[encoded data removed]",
      "text/plain": [
       "<Figure size 864x432 with 1 Axes>"
      ]
     },
     "metadata": {
      "needs_background": "light"
     },
     "output_type": "display_data"
    },
    {
     "data": {
      "image/png": "[encoded data removed]",
      "text/plain": [
       "<Figure size 864x432 with 1 Axes>"
      ]
     },
     "metadata": {
      "needs_background": "light"
     },
     "output_type": "display_data"
    }
   ],
   "source": [
    "for metrica in lista_metricas:\n",
    "    fig = plt.figure(figsize = (12, 6))\n",
    "    plt.hist(df_metricas[metrica], bins = 20)\n",
    "    plt.ylabel('count')\n",
    "    plt.xlabel(metrica)\n",
    "    plt.show()"
   ]
  },
  {
   "cell_type": "markdown",
   "metadata": {},
   "source": [
    "Como parece que hay cierta corrlación entre el grado de entrada y la centralidad de vector propio se dibuja un scatterplot de los dos y se calcula la correlación tras normalizar el grado de entrada."
   ]
  },
  {
   "cell_type": "code",
   "execution_count": 8,
   "metadata": {},
   "outputs": [
    {
     "name": "stdout",
     "output_type": "stream",
     "text": [
      "La correlación es 0.7725735396912333\n"
     ]
    },
    {
     "data": {
      "image/png": "[encoded data removed]",
      "text/plain": [
       "<Figure size 864x432 with 1 Axes>"
      ]
     },
     "metadata": {
      "needs_background": "light"
     },
     "output_type": "display_data"
    }
   ],
   "source": [
    "# Dibuja un scatterplot de weighted indegree vs eigencentrality\n",
    "fig = plt.figure(figsize = (12, 6))\n",
    "plt.ylabel('Grado de entrada con peso')\n",
    "plt.xlabel('Centralidad de vector propio')\n",
    "y = df_metricas['weighted indegree'].values\n",
    "x = df_metricas['eigencentrality'].values\n",
    "plt.plot(x, y, 'o')\n",
    "\n",
    "# Calcula la pendiente y la ordenada en el origen para pintar la recta de regresión\n",
    "m, b = np.polyfit(x, y, 1)\n",
    "\n",
    "# Añade la recta al scatterplot\n",
    "plt.plot(x, m*x+b)\n",
    "\n",
    "# Calcula la correlación de ambas variables\n",
    "corr = stats.pearsonr(y,x)[0]\n",
    "print('La correlación es ' + str(corr))\n"
   ]
  },
  {
   "cell_type": "markdown",
   "metadata": {},
   "source": [
    "## Clustering mediante aprendizaje no supervisado"
   ]
  },
  {
   "cell_type": "markdown",
   "metadata": {},
   "source": [
    "Se calcula el coeficiente de silueta para ver que número de clústeres es el mejor"
   ]
  },
  {
   "cell_type": "code",
   "execution_count": 9,
   "metadata": {
    "scrolled": true
   },
   "outputs": [
    {
     "name": "stdout",
     "output_type": "stream",
     "text": [
      "#Clusters = 2 score = 0.71003316739028\n",
      "#Clusters = 3 score = 0.6045198477719191\n",
      "#Clusters = 4 score = 0.6265517608287265\n",
      "#Clusters = 5 score = 0.6082757807881919\n",
      "#Clusters = 6 score = 0.42957833841433185\n",
      "#Clusters = 7 score = 0.3966636983560442\n",
      "#Clusters = 8 score = 0.41113884541250717\n",
      "#Clusters = 9 score = 0.4243851126879643\n",
      "#Clusters = 10 score = 0.4252434885059275\n",
      "#Clusters = 11 score = 0.4311855961016171\n",
      "#Clusters = 12 score = 0.4713456008273269\n",
      "#Clusters = 13 score = 0.47084524246524373\n",
      "#Clusters = 14 score = 0.41721512133099964\n",
      "#Clusters = 15 score = 0.47503107253064114\n",
      "#Clusters = 16 score = 0.44797773824915793\n",
      "#Clusters = 17 score = 0.4221973887112191\n",
      "#Clusters = 18 score = 0.42215721028295844\n",
      "#Clusters = 19 score = 0.3979358958461475\n",
      "#Clusters = 20 score = 0.4089349734883444\n",
      "#Clusters = 21 score = 0.4231198316632562\n",
      "#Clusters = 22 score = 0.3914876207548884\n",
      "#Clusters = 23 score = 0.38962155147970196\n",
      "#Clusters = 24 score = 0.3550278720282299\n",
      "#Clusters = 25 score = 0.33649208044403545\n",
      "#Clusters = 26 score = 0.34680823160763935\n",
      "#Clusters = 27 score = 0.2972407604693066\n",
      "#Clusters = 28 score = 0.28810026915695586\n",
      "#Clusters = 29 score = 0.3183009426365716\n",
      "#Clusters = 30 score = 0.3048776133677514\n",
      "#Clusters = 31 score = 0.25811067834376084\n",
      "#Clusters = 32 score = 0.26716645919687365\n",
      "#Clusters = 33 score = 0.2515346495668146\n",
      "#Clusters = 34 score = 0.24485738584442943\n",
      "#Clusters = 35 score = 0.22773049115817792\n",
      "#Clusters = 36 score = 0.2094091032892817\n",
      "#Clusters = 37 score = 0.1938517548967384\n",
      "#Clusters = 38 score = 0.19786340433214353\n",
      "#Clusters = 39 score = 0.16457667072981455\n",
      "#Clusters = 40 score = 0.1593586438542782\n",
      "#Clusters = 41 score = 0.13280428212879317\n",
      "#Clusters = 42 score = 0.12794639152824477\n",
      "#Clusters = 43 score = 0.09604831892465776\n",
      "#Clusters = 44 score = 0.0664327328740444\n",
      "#Clusters = 45 score = 0.05306494535779163\n",
      "#Clusters = 46 score = 0.024825900034841357\n"
     ]
    }
   ],
   "source": [
    "X = df_metricas[lista_metricas]\n",
    "\n",
    "for k in range(2,47):\n",
    "    kmeans = KMeans(n_clusters=k)\n",
    "    clusters = kmeans.fit(X)\n",
    "    coef = metrics.silhouette_score(X, clusters.labels_, metric='euclidean')\n",
    "    print('#Clusters = ' + str(k) + ' score = ' + str(coef))\n"
   ]
  },
  {
   "cell_type": "markdown",
   "metadata": {},
   "source": [
    "A pesar de que según el coeficiente de silueta el número óptimo de clústeres es 2, se va a dividir en 6 para ver si coincide con la agrupación por partidos."
   ]
  },
  {
   "cell_type": "code",
   "execution_count": 10,
   "metadata": {
    "scrolled": true
   },
   "outputs": [],
   "source": [
    "kmeans = KMeans(n_clusters=6)\n",
    "clusters = kmeans.fit(X)\n",
    "df_metricas['Cluster'] = clusters.labels_"
   ]
  },
  {
   "cell_type": "markdown",
   "metadata": {},
   "source": [
    "## Similaridad"
   ]
  },
  {
   "cell_type": "code",
   "execution_count": 11,
   "metadata": {
    "scrolled": true
   },
   "outputs": [],
   "source": [
    "# A partir de las aristas de la red crea la matriz de adyacencia llena con los valores de coeficiente de Pearson\n",
    "def getCorrelationMatrix(dataframe):\n",
    "    \n",
    "    # Dataframe edges\n",
    "    edges = dataframe.copy()\n",
    "    edges = edges[['source', 'target']]\n",
    "    \n",
    "    # Lista nodes\n",
    "    source_list = dataframe['source'].tolist()\n",
    "    target_list = dataframe['target'].tolist()\n",
    "    nodes = list(set(source_list + target_list))\n",
    "    \n",
    "    # Creación matriz de adyacencia\n",
    "    ady_edges = pd.DataFrame(index = nodes, columns = nodes)\n",
    "    ady_edges.loc[:,:] = 0\n",
    "    \n",
    "    # Rellena la matriz de adyacencia con los pesos de las aristas\n",
    "    for x, row in edges.iterrows():\n",
    "        source_name = row[0]\n",
    "        target_name = row[1]\n",
    "        ady_edges.at[source_name, target_name] += 1\n",
    "        \n",
    "    # Crea una matriz y la rellena con los soeficientes de correlación\n",
    "    ady_edges_pearson = ady_edges.copy()\n",
    "    for i in range(ady_edges.shape[0]):\n",
    "        for j in range(ady_edges.shape[0]):\n",
    "            results = stats.pearsonr(ady_edges.iloc[i],ady_edges.iloc[j])\n",
    "            ady_edges_pearson.iat[i,j] = results[0]\n",
    "        \n",
    "    return ady_edges_pearson\n"
   ]
  },
  {
   "cell_type": "code",
   "execution_count": 12,
   "metadata": {},
   "outputs": [],
   "source": [
    "# Dada una matriz de adyacencia devuelve numpy array con los valores por encima de la diagonal principal\n",
    "def getUniqueValues(dataframe):\n",
    "    valores_unicos = []\n",
    "    \n",
    "    # Recorre la matriz entera y solo coge los valores por encima de la diagonal principal\n",
    "    for x in range(len(dataframe)):\n",
    "        for y in range(len(dataframe)):\n",
    "            if y > x:\n",
    "                valores_unicos.append(dataframe.iloc[x,y])\n",
    "    # Convierte la lista en un array de numpy            \n",
    "    valores_unicos = np.array(valores_unicos)\n",
    "    \n",
    "    # Quita los 'NaN'\n",
    "    valores_unicos = valores_unicos[np.logical_not(np.isnan(valores_unicos))]\n",
    "    return valores_unicos\n",
    "    "
   ]
  },
  {
   "cell_type": "code",
   "execution_count": 13,
   "metadata": {},
   "outputs": [],
   "source": [
    "# Dadas las aristas de una red calcula el valor primedio de la similaridad\n",
    "def getSimilarityMean(dataframe):\n",
    "    corr_matrix = getCorrelationMatrix(dataframe)\n",
    "    valores_unicos = getUniqueValues(corr_matrix)\n",
    "    return valores_unicos.mean()"
   ]
  },
  {
   "cell_type": "code",
   "execution_count": 14,
   "metadata": {},
   "outputs": [],
   "source": [
    "# Dadas las aristas de una red y una columna por la que agrupar, devuelve un diccionario con la similaridad promedio de cada grupo \n",
    "def similarityEachGroup(dataframe, column):\n",
    "    # Obtiene los grupos \n",
    "    groups = dataframe[column].unique()\n",
    "    means = {}\n",
    "    for group in groups:\n",
    "        \n",
    "        # Obtiene un dataframe en el que todos los nodos source pertenezcan al grupo\n",
    "        sliced_df = dataframe[dataframe[column]==group]\n",
    "        \n",
    "        # En algunos casos interesa que el target también pertenezca al grupo\n",
    "        if column + '_target' in sliced_df.columns:\n",
    "            sliced_df = sliced_df[sliced_df[column + '_target']==group]\n",
    "        \n",
    "        # Calcula la similaridad promedio y la añade al diccionario\n",
    "        means[group] = getSimilarityMean(sliced_df)\n",
    "        \n",
    "    return means        "
   ]
  },
  {
   "cell_type": "code",
   "execution_count": 15,
   "metadata": {
    "scrolled": true
   },
   "outputs": [
    {
     "data": {
      "text/html": [
       "<div>\n",
       "<style scoped>\n",
       "    .dataframe tbody tr th:only-of-type {\n",
       "        vertical-align: middle;\n",
       "    }\n",
       "\n",
       "    .dataframe tbody tr th {\n",
       "        vertical-align: top;\n",
       "    }\n",
       "\n",
       "    .dataframe thead th {\n",
       "        text-align: right;\n",
       "    }\n",
       "</style>\n",
       "<table border=\"1\" class=\"dataframe\">\n",
       "  <thead>\n",
       "    <tr style=\"text-align: right;\">\n",
       "      <th></th>\n",
       "      <th>source</th>\n",
       "      <th>target</th>\n",
       "      <th>start</th>\n",
       "      <th>modularity_class</th>\n",
       "      <th>partido</th>\n",
       "      <th>Cluster</th>\n",
       "      <th>modularity_class_target</th>\n",
       "      <th>partido_target</th>\n",
       "      <th>Cluster_target</th>\n",
       "    </tr>\n",
       "  </thead>\n",
       "  <tbody>\n",
       "    <tr>\n",
       "      <th>0</th>\n",
       "      <td>rita_maestre</td>\n",
       "      <td>jorgegcastano</td>\n",
       "      <td>2021-02</td>\n",
       "      <td>2</td>\n",
       "      <td>MásMadrid</td>\n",
       "      <td>4</td>\n",
       "      <td>2</td>\n",
       "      <td>MásMadrid</td>\n",
       "      <td>1</td>\n",
       "    </tr>\n",
       "    <tr>\n",
       "      <th>1</th>\n",
       "      <td>rita_maestre</td>\n",
       "      <td>jorgegcastano</td>\n",
       "      <td>2020-09</td>\n",
       "      <td>2</td>\n",
       "      <td>MásMadrid</td>\n",
       "      <td>4</td>\n",
       "      <td>2</td>\n",
       "      <td>MásMadrid</td>\n",
       "      <td>1</td>\n",
       "    </tr>\n",
       "    <tr>\n",
       "      <th>2</th>\n",
       "      <td>rita_maestre</td>\n",
       "      <td>jorgegcastano</td>\n",
       "      <td>2020-07</td>\n",
       "      <td>2</td>\n",
       "      <td>MásMadrid</td>\n",
       "      <td>4</td>\n",
       "      <td>2</td>\n",
       "      <td>MásMadrid</td>\n",
       "      <td>1</td>\n",
       "    </tr>\n",
       "    <tr>\n",
       "      <th>3</th>\n",
       "      <td>rita_maestre</td>\n",
       "      <td>jlnietob</td>\n",
       "      <td>2020-04</td>\n",
       "      <td>2</td>\n",
       "      <td>MásMadrid</td>\n",
       "      <td>4</td>\n",
       "      <td>2</td>\n",
       "      <td>MásMadrid</td>\n",
       "      <td>3</td>\n",
       "    </tr>\n",
       "    <tr>\n",
       "      <th>4</th>\n",
       "      <td>rita_maestre</td>\n",
       "      <td>jorgegcastano</td>\n",
       "      <td>2020-04</td>\n",
       "      <td>2</td>\n",
       "      <td>MásMadrid</td>\n",
       "      <td>4</td>\n",
       "      <td>2</td>\n",
       "      <td>MásMadrid</td>\n",
       "      <td>1</td>\n",
       "    </tr>\n",
       "    <tr>\n",
       "      <th>...</th>\n",
       "      <td>...</td>\n",
       "      <td>...</td>\n",
       "      <td>...</td>\n",
       "      <td>...</td>\n",
       "      <td>...</td>\n",
       "      <td>...</td>\n",
       "      <td>...</td>\n",
       "      <td>...</td>\n",
       "      <td>...</td>\n",
       "    </tr>\n",
       "    <tr>\n",
       "      <th>5016</th>\n",
       "      <td>luiscueto12</td>\n",
       "      <td>palomagromero</td>\n",
       "      <td>2021-11</td>\n",
       "      <td>2</td>\n",
       "      <td>GrupoMixto</td>\n",
       "      <td>3</td>\n",
       "      <td>0</td>\n",
       "      <td>PP</td>\n",
       "      <td>0</td>\n",
       "    </tr>\n",
       "    <tr>\n",
       "      <th>5017</th>\n",
       "      <td>luiscueto12</td>\n",
       "      <td>josemanuel_co</td>\n",
       "      <td>2021-11</td>\n",
       "      <td>2</td>\n",
       "      <td>GrupoMixto</td>\n",
       "      <td>3</td>\n",
       "      <td>4</td>\n",
       "      <td>GrupoMixto</td>\n",
       "      <td>3</td>\n",
       "    </tr>\n",
       "    <tr>\n",
       "      <th>5018</th>\n",
       "      <td>luiscueto12</td>\n",
       "      <td>palomagromero</td>\n",
       "      <td>2021-11</td>\n",
       "      <td>2</td>\n",
       "      <td>GrupoMixto</td>\n",
       "      <td>3</td>\n",
       "      <td>0</td>\n",
       "      <td>PP</td>\n",
       "      <td>0</td>\n",
       "    </tr>\n",
       "    <tr>\n",
       "      <th>5019</th>\n",
       "      <td>luiscueto12</td>\n",
       "      <td>almeidapp_</td>\n",
       "      <td>2021-11</td>\n",
       "      <td>2</td>\n",
       "      <td>GrupoMixto</td>\n",
       "      <td>3</td>\n",
       "      <td>0</td>\n",
       "      <td>PP</td>\n",
       "      <td>2</td>\n",
       "    </tr>\n",
       "    <tr>\n",
       "      <th>5020</th>\n",
       "      <td>luiscueto12</td>\n",
       "      <td>palomagromero</td>\n",
       "      <td>2021-11</td>\n",
       "      <td>2</td>\n",
       "      <td>GrupoMixto</td>\n",
       "      <td>3</td>\n",
       "      <td>0</td>\n",
       "      <td>PP</td>\n",
       "      <td>0</td>\n",
       "    </tr>\n",
       "  </tbody>\n",
       "</table>\n",
       "<p>5021 rows × 9 columns</p>\n",
       "</div>"
      ],
      "text/plain": [
       "            source         target    start  modularity_class     partido  \\\n",
       "0     rita_maestre  jorgegcastano  2021-02                 2   MásMadrid   \n",
       "1     rita_maestre  jorgegcastano  2020-09                 2   MásMadrid   \n",
       "2     rita_maestre  jorgegcastano  2020-07                 2   MásMadrid   \n",
       "3     rita_maestre       jlnietob  2020-04                 2   MásMadrid   \n",
       "4     rita_maestre  jorgegcastano  2020-04                 2   MásMadrid   \n",
       "...            ...            ...      ...               ...         ...   \n",
       "5016   luiscueto12  palomagromero  2021-11                 2  GrupoMixto   \n",
       "5017   luiscueto12  josemanuel_co  2021-11                 2  GrupoMixto   \n",
       "5018   luiscueto12  palomagromero  2021-11                 2  GrupoMixto   \n",
       "5019   luiscueto12     almeidapp_  2021-11                 2  GrupoMixto   \n",
       "5020   luiscueto12  palomagromero  2021-11                 2  GrupoMixto   \n",
       "\n",
       "      Cluster  modularity_class_target partido_target  Cluster_target  \n",
       "0           4                        2      MásMadrid               1  \n",
       "1           4                        2      MásMadrid               1  \n",
       "2           4                        2      MásMadrid               1  \n",
       "3           4                        2      MásMadrid               3  \n",
       "4           4                        2      MásMadrid               1  \n",
       "...       ...                      ...            ...             ...  \n",
       "5016        3                        0             PP               0  \n",
       "5017        3                        4     GrupoMixto               3  \n",
       "5018        3                        0             PP               0  \n",
       "5019        3                        0             PP               2  \n",
       "5020        3                        0             PP               0  \n",
       "\n",
       "[5021 rows x 9 columns]"
      ]
     },
     "execution_count": 15,
     "metadata": {},
     "output_type": "execute_result"
    }
   ],
   "source": [
    "# Lee el csv con información sobre las aristas\n",
    "df_edges = pd.read_csv('grafo_concejales.csv')\n",
    "\n",
    "# Crea un dataframe con las etiquetas de partido, modularidad y clúster\n",
    "df_labels = df_metricas[['Id','modularity_class', 'partido', 'Cluster']]\n",
    "df_labels = df_labels.set_index('Id')\n",
    "\n",
    "\n",
    "# Hace join para que df_edges tenga información sobre partidos, modularidad y clústeres\n",
    "df_edges = df_edges.join(df_labels, on='source', rsuffix='_source')\n",
    "df_edges = df_edges.join(df_labels, on='target', rsuffix='_target')\n",
    "\n",
    "# Saca una columna con el año y el mes\n",
    "df_edges['start'] = pd.to_datetime(df_edges['start'])\n",
    "df_edges['start'] = df_edges['start'].dt.to_period('M')\n",
    "df_edges['start'] = df_edges['start'].astype(str)\n",
    "\n",
    "\n",
    "df_edges"
   ]
  },
  {
   "cell_type": "code",
   "execution_count": 16,
   "metadata": {
    "scrolled": true
   },
   "outputs": [
    {
     "name": "stderr",
     "output_type": "stream",
     "text": [
      "C:\\ProgramData\\Anaconda3\\lib\\site-packages\\scipy\\stats\\stats.py:4023: PearsonRConstantInputWarning: An input array is constant; the correlation coefficient is not defined.\n",
      "  warnings.warn(PearsonRConstantInputWarning())\n"
     ]
    },
    {
     "data": {
      "text/plain": [
       "0.2684411020975563"
      ]
     },
     "execution_count": 16,
     "metadata": {},
     "output_type": "execute_result"
    }
   ],
   "source": [
    "# Calcula la similaridad promedio de la red completa\n",
    "whole_net_similarity = getSimilarityMean(df_edges)\n",
    "whole_net_similarity"
   ]
  },
  {
   "cell_type": "code",
   "execution_count": 17,
   "metadata": {
    "scrolled": false
   },
   "outputs": [
    {
     "name": "stderr",
     "output_type": "stream",
     "text": [
      "C:\\ProgramData\\Anaconda3\\lib\\site-packages\\scipy\\stats\\stats.py:4023: PearsonRConstantInputWarning: An input array is constant; the correlation coefficient is not defined.\n",
      "  warnings.warn(PearsonRConstantInputWarning())\n",
      "C:\\ProgramData\\Anaconda3\\lib\\site-packages\\scipy\\stats\\stats.py:4023: PearsonRConstantInputWarning: An input array is constant; the correlation coefficient is not defined.\n",
      "  warnings.warn(PearsonRConstantInputWarning())\n",
      "C:\\ProgramData\\Anaconda3\\lib\\site-packages\\scipy\\stats\\stats.py:4023: PearsonRConstantInputWarning: An input array is constant; the correlation coefficient is not defined.\n",
      "  warnings.warn(PearsonRConstantInputWarning())\n",
      "C:\\ProgramData\\Anaconda3\\lib\\site-packages\\scipy\\stats\\stats.py:4023: PearsonRConstantInputWarning: An input array is constant; the correlation coefficient is not defined.\n",
      "  warnings.warn(PearsonRConstantInputWarning())\n"
     ]
    },
    {
     "data": {
      "text/plain": [
       "{'MásMadrid': 0.274232264876762,\n",
       " 'PP': 0.3999135696071207,\n",
       " 'Ciudadanos': 0.2642698870573085,\n",
       " 'PSOE': -0.08494479800813325,\n",
       " 'VOX': -0.7019158563540911,\n",
       " 'GrupoMixto': -1.0}"
      ]
     },
     "execution_count": 17,
     "metadata": {},
     "output_type": "execute_result"
    }
   ],
   "source": [
    "# Calcula la similaridad promedio de cada partido\n",
    "mean_partidos = similarityEachGroup(df_edges, 'partido')\n",
    "mean_partidos"
   ]
  },
  {
   "cell_type": "code",
   "execution_count": 18,
   "metadata": {},
   "outputs": [
    {
     "data": {
      "image/png": "[encoded data removed]",
      "text/plain": [
       "<Figure size 864x432 with 1 Axes>"
      ]
     },
     "metadata": {
      "needs_background": "light"
     },
     "output_type": "display_data"
    }
   ],
   "source": [
    "# Dibuja la similaridad promedio de cada partido\n",
    "fig = plt.figure(figsize = (12, 6))\n",
    "\n",
    "xaxis = list(mean_partidos.keys()) + ['Red Completa']\n",
    "yaxis = list(mean_partidos.values()) + [whole_net_similarity]\n",
    "plt.bar(xaxis, yaxis, \n",
    "        width = 0.5)\n",
    "plt.axhline(y=0,color='black')\n",
    "plt.xlabel(\"Partido\")\n",
    "plt.ylabel(\"Similaridad promedio\")\n",
    "plt.show()"
   ]
  },
  {
   "cell_type": "code",
   "execution_count": 19,
   "metadata": {},
   "outputs": [
    {
     "name": "stderr",
     "output_type": "stream",
     "text": [
      "C:\\ProgramData\\Anaconda3\\lib\\site-packages\\scipy\\stats\\stats.py:4023: PearsonRConstantInputWarning: An input array is constant; the correlation coefficient is not defined.\n",
      "  warnings.warn(PearsonRConstantInputWarning())\n",
      "C:\\ProgramData\\Anaconda3\\lib\\site-packages\\scipy\\stats\\stats.py:4023: PearsonRConstantInputWarning: An input array is constant; the correlation coefficient is not defined.\n",
      "  warnings.warn(PearsonRConstantInputWarning())\n",
      "C:\\ProgramData\\Anaconda3\\lib\\site-packages\\scipy\\stats\\stats.py:4023: PearsonRConstantInputWarning: An input array is constant; the correlation coefficient is not defined.\n",
      "  warnings.warn(PearsonRConstantInputWarning())\n",
      "C:\\ProgramData\\Anaconda3\\lib\\site-packages\\scipy\\stats\\stats.py:4023: PearsonRConstantInputWarning: An input array is constant; the correlation coefficient is not defined.\n",
      "  warnings.warn(PearsonRConstantInputWarning())\n",
      "C:\\ProgramData\\Anaconda3\\lib\\site-packages\\scipy\\stats\\stats.py:4023: PearsonRConstantInputWarning: An input array is constant; the correlation coefficient is not defined.\n",
      "  warnings.warn(PearsonRConstantInputWarning())\n",
      "C:\\ProgramData\\Anaconda3\\lib\\site-packages\\scipy\\stats\\stats.py:4023: PearsonRConstantInputWarning: An input array is constant; the correlation coefficient is not defined.\n",
      "  warnings.warn(PearsonRConstantInputWarning())\n",
      "C:\\Users\\alfoz\\AppData\\Local\\Temp\\ipykernel_8944\\603324393.py:5: RuntimeWarning: Mean of empty slice.\n",
      "  return valores_unicos.mean()\n",
      "C:\\ProgramData\\Anaconda3\\lib\\site-packages\\numpy\\core\\_methods.py:189: RuntimeWarning: invalid value encountered in double_scalars\n",
      "  ret = ret.dtype.type(ret / rcount)\n"
     ]
    },
    {
     "data": {
      "text/plain": [
       "{2: 0.26713213634986904,\n",
       " 4: 0.03517910429704246,\n",
       " 0: 0.43075698492386466,\n",
       " 3: 0.26843576167782246,\n",
       " 1: 0.1827362220348014,\n",
       " 5: nan}"
      ]
     },
     "execution_count": 19,
     "metadata": {},
     "output_type": "execute_result"
    }
   ],
   "source": [
    "# Calcula la similaridad promedio de cada clase de modularidad\n",
    "mean_classes = similarityEachGroup(df_edges, 'modularity_class')\n",
    "mean_classes"
   ]
  },
  {
   "cell_type": "code",
   "execution_count": 20,
   "metadata": {},
   "outputs": [],
   "source": [
    "# Quita el nan\n",
    "mean_classes.pop(5)\n",
    "\n",
    "# Ordena el diccionario por la clave\n",
    "mean_classes = collections.OrderedDict(sorted(mean_classes.items()))"
   ]
  },
  {
   "cell_type": "code",
   "execution_count": 21,
   "metadata": {},
   "outputs": [
    {
     "data": {
      "image/png": "[encoded data removed]",
      "text/plain": [
       "<Figure size 864x432 with 1 Axes>"
      ]
     },
     "metadata": {
      "needs_background": "light"
     },
     "output_type": "display_data"
    }
   ],
   "source": [
    "# Dibuja la similaridad promedio de cada clase de modularidad\n",
    "fig = plt.figure(figsize = (12, 6))\n",
    "\n",
    "\n",
    "xaxis = [str(x) for x in mean_classes.keys()] + ['Red Completa']\n",
    "yaxis = list(mean_classes.values()) + [whole_net_similarity]\n",
    "plt.bar(xaxis, yaxis, \n",
    "        width = 0.5)\n",
    "plt.axhline(y=0,color='black')\n",
    "plt.xlabel(\"Clase de modularidad\")\n",
    "plt.ylabel(\"Similaridad promedio\")\n",
    "plt.show()"
   ]
  },
  {
   "cell_type": "code",
   "execution_count": 22,
   "metadata": {},
   "outputs": [
    {
     "name": "stderr",
     "output_type": "stream",
     "text": [
      "C:\\ProgramData\\Anaconda3\\lib\\site-packages\\scipy\\stats\\stats.py:4023: PearsonRConstantInputWarning: An input array is constant; the correlation coefficient is not defined.\n",
      "  warnings.warn(PearsonRConstantInputWarning())\n",
      "C:\\Users\\alfoz\\AppData\\Local\\Temp\\ipykernel_8944\\603324393.py:5: RuntimeWarning: Mean of empty slice.\n",
      "  return valores_unicos.mean()\n",
      "C:\\ProgramData\\Anaconda3\\lib\\site-packages\\numpy\\core\\_methods.py:189: RuntimeWarning: invalid value encountered in double_scalars\n",
      "  ret = ret.dtype.type(ret / rcount)\n",
      "C:\\Users\\alfoz\\AppData\\Local\\Temp\\ipykernel_8944\\603324393.py:5: RuntimeWarning: Mean of empty slice.\n",
      "  return valores_unicos.mean()\n",
      "C:\\ProgramData\\Anaconda3\\lib\\site-packages\\numpy\\core\\_methods.py:189: RuntimeWarning: invalid value encountered in double_scalars\n",
      "  ret = ret.dtype.type(ret / rcount)\n"
     ]
    },
    {
     "data": {
      "text/plain": [
       "{4: -0.3333333333333333,\n",
       " 1: -0.11074659179926792,\n",
       " 0: 0.02520585493429452,\n",
       " 3: 0.016845716437505643,\n",
       " 5: nan,\n",
       " 2: nan}"
      ]
     },
     "execution_count": 22,
     "metadata": {},
     "output_type": "execute_result"
    }
   ],
   "source": [
    "# Calcula la similaridad promedio de cada clúster\n",
    "mean_clusters = similarityEachGroup(df_edges, 'Cluster')\n",
    "mean_clusters"
   ]
  },
  {
   "cell_type": "code",
   "execution_count": 23,
   "metadata": {},
   "outputs": [],
   "source": [
    "# Quita los nan\n",
    "mean_clusters.pop(2)\n",
    "mean_clusters.pop(3)\n",
    "\n",
    "# Ordena el diccionario por la clave\n",
    "mean_clusters = collections.OrderedDict(sorted(mean_clusters.items()))"
   ]
  },
  {
   "cell_type": "code",
   "execution_count": 24,
   "metadata": {},
   "outputs": [
    {
     "data": {
      "image/png": "[encoded data removed]",
      "text/plain": [
       "<Figure size 864x432 with 1 Axes>"
      ]
     },
     "metadata": {
      "needs_background": "light"
     },
     "output_type": "display_data"
    }
   ],
   "source": [
    "# Dibuja la similaridad promedio de cada clúster\n",
    "fig = plt.figure(figsize = (12, 6))\n",
    "\n",
    "xaxis = [str(x) for x in mean_clusters.keys()] + ['Red Completa']\n",
    "yaxis = list(mean_clusters.values()) + [whole_net_similarity]\n",
    "plt.bar(xaxis, yaxis, \n",
    "        width = 0.5)\n",
    "plt.axhline(y=0,color='black')\n",
    "plt.xlabel(\"Clúster\")\n",
    "plt.ylabel(\"Similaridad promedio\")\n",
    "plt.show()"
   ]
  },
  {
   "cell_type": "code",
   "execution_count": 25,
   "metadata": {
    "scrolled": true
   },
   "outputs": [
    {
     "name": "stderr",
     "output_type": "stream",
     "text": [
      "C:\\ProgramData\\Anaconda3\\lib\\site-packages\\scipy\\stats\\stats.py:4023: PearsonRConstantInputWarning: An input array is constant; the correlation coefficient is not defined.\n",
      "  warnings.warn(PearsonRConstantInputWarning())\n",
      "C:\\ProgramData\\Anaconda3\\lib\\site-packages\\scipy\\stats\\stats.py:4023: PearsonRConstantInputWarning: An input array is constant; the correlation coefficient is not defined.\n",
      "  warnings.warn(PearsonRConstantInputWarning())\n",
      "C:\\ProgramData\\Anaconda3\\lib\\site-packages\\scipy\\stats\\stats.py:4023: PearsonRConstantInputWarning: An input array is constant; the correlation coefficient is not defined.\n",
      "  warnings.warn(PearsonRConstantInputWarning())\n",
      "C:\\ProgramData\\Anaconda3\\lib\\site-packages\\scipy\\stats\\stats.py:4023: PearsonRConstantInputWarning: An input array is constant; the correlation coefficient is not defined.\n",
      "  warnings.warn(PearsonRConstantInputWarning())\n",
      "C:\\ProgramData\\Anaconda3\\lib\\site-packages\\scipy\\stats\\stats.py:4023: PearsonRConstantInputWarning: An input array is constant; the correlation coefficient is not defined.\n",
      "  warnings.warn(PearsonRConstantInputWarning())\n",
      "C:\\ProgramData\\Anaconda3\\lib\\site-packages\\scipy\\stats\\stats.py:4023: PearsonRConstantInputWarning: An input array is constant; the correlation coefficient is not defined.\n",
      "  warnings.warn(PearsonRConstantInputWarning())\n",
      "C:\\ProgramData\\Anaconda3\\lib\\site-packages\\scipy\\stats\\stats.py:4023: PearsonRConstantInputWarning: An input array is constant; the correlation coefficient is not defined.\n",
      "  warnings.warn(PearsonRConstantInputWarning())\n",
      "C:\\ProgramData\\Anaconda3\\lib\\site-packages\\scipy\\stats\\stats.py:4023: PearsonRConstantInputWarning: An input array is constant; the correlation coefficient is not defined.\n",
      "  warnings.warn(PearsonRConstantInputWarning())\n",
      "C:\\ProgramData\\Anaconda3\\lib\\site-packages\\scipy\\stats\\stats.py:4023: PearsonRConstantInputWarning: An input array is constant; the correlation coefficient is not defined.\n",
      "  warnings.warn(PearsonRConstantInputWarning())\n",
      "C:\\ProgramData\\Anaconda3\\lib\\site-packages\\scipy\\stats\\stats.py:4023: PearsonRConstantInputWarning: An input array is constant; the correlation coefficient is not defined.\n",
      "  warnings.warn(PearsonRConstantInputWarning())\n",
      "C:\\ProgramData\\Anaconda3\\lib\\site-packages\\scipy\\stats\\stats.py:4023: PearsonRConstantInputWarning: An input array is constant; the correlation coefficient is not defined.\n",
      "  warnings.warn(PearsonRConstantInputWarning())\n",
      "C:\\ProgramData\\Anaconda3\\lib\\site-packages\\scipy\\stats\\stats.py:4023: PearsonRConstantInputWarning: An input array is constant; the correlation coefficient is not defined.\n",
      "  warnings.warn(PearsonRConstantInputWarning())\n",
      "C:\\ProgramData\\Anaconda3\\lib\\site-packages\\scipy\\stats\\stats.py:4023: PearsonRConstantInputWarning: An input array is constant; the correlation coefficient is not defined.\n",
      "  warnings.warn(PearsonRConstantInputWarning())\n",
      "C:\\ProgramData\\Anaconda3\\lib\\site-packages\\scipy\\stats\\stats.py:4023: PearsonRConstantInputWarning: An input array is constant; the correlation coefficient is not defined.\n",
      "  warnings.warn(PearsonRConstantInputWarning())\n",
      "C:\\ProgramData\\Anaconda3\\lib\\site-packages\\scipy\\stats\\stats.py:4023: PearsonRConstantInputWarning: An input array is constant; the correlation coefficient is not defined.\n",
      "  warnings.warn(PearsonRConstantInputWarning())\n",
      "C:\\ProgramData\\Anaconda3\\lib\\site-packages\\scipy\\stats\\stats.py:4023: PearsonRConstantInputWarning: An input array is constant; the correlation coefficient is not defined.\n",
      "  warnings.warn(PearsonRConstantInputWarning())\n",
      "C:\\ProgramData\\Anaconda3\\lib\\site-packages\\scipy\\stats\\stats.py:4023: PearsonRConstantInputWarning: An input array is constant; the correlation coefficient is not defined.\n",
      "  warnings.warn(PearsonRConstantInputWarning())\n",
      "C:\\ProgramData\\Anaconda3\\lib\\site-packages\\scipy\\stats\\stats.py:4023: PearsonRConstantInputWarning: An input array is constant; the correlation coefficient is not defined.\n",
      "  warnings.warn(PearsonRConstantInputWarning())\n",
      "C:\\ProgramData\\Anaconda3\\lib\\site-packages\\scipy\\stats\\stats.py:4023: PearsonRConstantInputWarning: An input array is constant; the correlation coefficient is not defined.\n",
      "  warnings.warn(PearsonRConstantInputWarning())\n",
      "C:\\ProgramData\\Anaconda3\\lib\\site-packages\\scipy\\stats\\stats.py:4023: PearsonRConstantInputWarning: An input array is constant; the correlation coefficient is not defined.\n",
      "  warnings.warn(PearsonRConstantInputWarning())\n",
      "C:\\ProgramData\\Anaconda3\\lib\\site-packages\\scipy\\stats\\stats.py:4023: PearsonRConstantInputWarning: An input array is constant; the correlation coefficient is not defined.\n",
      "  warnings.warn(PearsonRConstantInputWarning())\n",
      "C:\\ProgramData\\Anaconda3\\lib\\site-packages\\scipy\\stats\\stats.py:4023: PearsonRConstantInputWarning: An input array is constant; the correlation coefficient is not defined.\n",
      "  warnings.warn(PearsonRConstantInputWarning())\n",
      "C:\\ProgramData\\Anaconda3\\lib\\site-packages\\scipy\\stats\\stats.py:4023: PearsonRConstantInputWarning: An input array is constant; the correlation coefficient is not defined.\n",
      "  warnings.warn(PearsonRConstantInputWarning())\n",
      "C:\\ProgramData\\Anaconda3\\lib\\site-packages\\scipy\\stats\\stats.py:4023: PearsonRConstantInputWarning: An input array is constant; the correlation coefficient is not defined.\n",
      "  warnings.warn(PearsonRConstantInputWarning())\n",
      "C:\\ProgramData\\Anaconda3\\lib\\site-packages\\scipy\\stats\\stats.py:4023: PearsonRConstantInputWarning: An input array is constant; the correlation coefficient is not defined.\n",
      "  warnings.warn(PearsonRConstantInputWarning())\n",
      "C:\\ProgramData\\Anaconda3\\lib\\site-packages\\scipy\\stats\\stats.py:4023: PearsonRConstantInputWarning: An input array is constant; the correlation coefficient is not defined.\n",
      "  warnings.warn(PearsonRConstantInputWarning())\n",
      "C:\\ProgramData\\Anaconda3\\lib\\site-packages\\scipy\\stats\\stats.py:4023: PearsonRConstantInputWarning: An input array is constant; the correlation coefficient is not defined.\n",
      "  warnings.warn(PearsonRConstantInputWarning())\n",
      "C:\\ProgramData\\Anaconda3\\lib\\site-packages\\scipy\\stats\\stats.py:4023: PearsonRConstantInputWarning: An input array is constant; the correlation coefficient is not defined.\n",
      "  warnings.warn(PearsonRConstantInputWarning())\n",
      "C:\\ProgramData\\Anaconda3\\lib\\site-packages\\scipy\\stats\\stats.py:4023: PearsonRConstantInputWarning: An input array is constant; the correlation coefficient is not defined.\n",
      "  warnings.warn(PearsonRConstantInputWarning())\n",
      "C:\\ProgramData\\Anaconda3\\lib\\site-packages\\scipy\\stats\\stats.py:4023: PearsonRConstantInputWarning: An input array is constant; the correlation coefficient is not defined.\n",
      "  warnings.warn(PearsonRConstantInputWarning())\n",
      "C:\\ProgramData\\Anaconda3\\lib\\site-packages\\scipy\\stats\\stats.py:4023: PearsonRConstantInputWarning: An input array is constant; the correlation coefficient is not defined.\n",
      "  warnings.warn(PearsonRConstantInputWarning())\n",
      "C:\\ProgramData\\Anaconda3\\lib\\site-packages\\scipy\\stats\\stats.py:4023: PearsonRConstantInputWarning: An input array is constant; the correlation coefficient is not defined.\n",
      "  warnings.warn(PearsonRConstantInputWarning())\n",
      "C:\\ProgramData\\Anaconda3\\lib\\site-packages\\scipy\\stats\\stats.py:4023: PearsonRConstantInputWarning: An input array is constant; the correlation coefficient is not defined.\n",
      "  warnings.warn(PearsonRConstantInputWarning())\n",
      "C:\\ProgramData\\Anaconda3\\lib\\site-packages\\scipy\\stats\\stats.py:4023: PearsonRConstantInputWarning: An input array is constant; the correlation coefficient is not defined.\n",
      "  warnings.warn(PearsonRConstantInputWarning())\n",
      "C:\\ProgramData\\Anaconda3\\lib\\site-packages\\scipy\\stats\\stats.py:4023: PearsonRConstantInputWarning: An input array is constant; the correlation coefficient is not defined.\n",
      "  warnings.warn(PearsonRConstantInputWarning())\n",
      "C:\\ProgramData\\Anaconda3\\lib\\site-packages\\scipy\\stats\\stats.py:4023: PearsonRConstantInputWarning: An input array is constant; the correlation coefficient is not defined.\n",
      "  warnings.warn(PearsonRConstantInputWarning())\n"
     ]
    },
    {
     "data": {
      "image/png": "[encoded data removed]",
      "text/plain": [
       "<Figure size 1152x576 with 1 Axes>"
      ]
     },
     "metadata": {
      "needs_background": "light"
     },
     "output_type": "display_data"
    }
   ],
   "source": [
    "# Dibuja la siimlaridad promedio de la red cada mes\n",
    "diccionario = similarityEachGroup(df_edges, 'start')\n",
    "od = collections.OrderedDict(sorted(diccionario.items()))\n",
    "fig, ax = plt.subplots(figsize=(16, 8))\n",
    "plt.xticks(rotation = 45)\n",
    "ax.plot(od.keys() , od.values(), marker='o');"
   ]
  },
  {
   "cell_type": "markdown",
   "metadata": {},
   "source": [
    "## Mapas de calor"
   ]
  },
  {
   "cell_type": "code",
   "execution_count": 26,
   "metadata": {},
   "outputs": [
    {
     "data": {
      "image/png": "[encoded data removed]",
      "text/plain": [
       "<Figure size 1152x576 with 2 Axes>"
      ]
     },
     "metadata": {
      "needs_background": "light"
     },
     "output_type": "display_data"
    }
   ],
   "source": [
    "confusion_matrix = pd.crosstab(df_labels['modularity_class'], df_labels['partido'], \n",
    "                               rownames=['Clase modularidad'], colnames=['Partido'],\n",
    "                              normalize='columns')\n",
    "fig = plt.figure(figsize = (16, 8))\n",
    "sn.heatmap(confusion_matrix, annot=True)\n",
    "plt.show()"
   ]
  },
  {
   "cell_type": "code",
   "execution_count": 27,
   "metadata": {
    "scrolled": false
   },
   "outputs": [
    {
     "data": {
      "image/png": "[encoded data removed]",
      "text/plain": [
       "<Figure size 1152x576 with 2 Axes>"
      ]
     },
     "metadata": {
      "needs_background": "light"
     },
     "output_type": "display_data"
    }
   ],
   "source": [
    "confusion_matrix = pd.crosstab(df_labels['modularity_class'], df_labels['Cluster'], \n",
    "                               rownames=['Clase modularidad'], colnames=['Cluster'],\n",
    "                              normalize='columns')\n",
    "fig = plt.figure(figsize = (16, 8))\n",
    "sn.heatmap(confusion_matrix, annot=True)\n",
    "plt.show()"
   ]
  },
  {
   "cell_type": "code",
   "execution_count": 28,
   "metadata": {},
   "outputs": [
    {
     "data": {
      "image/png": "[encoded data removed]",
      "text/plain": [
       "<Figure size 1152x576 with 2 Axes>"
      ]
     },
     "metadata": {
      "needs_background": "light"
     },
     "output_type": "display_data"
    }
   ],
   "source": [
    "confusion_matrix = pd.crosstab(df_labels['Cluster'], df_labels['partido'], \n",
    "                               rownames=['Cluster'], colnames=['Partido'],\n",
    "                              normalize='columns')\n",
    "fig = plt.figure(figsize = (16, 8))\n",
    "sn.heatmap(confusion_matrix, annot=True)\n",
    "plt.show()"
   ]
  }
 ],
 "metadata": {
  "kernelspec": {
   "display_name": "Python 3 (ipykernel)",
   "language": "python",
   "name": "python3"
  },
  "language_info": {
   "codemirror_mode": {
    "name": "ipython",
    "version": 3
   },
   "file_extension": ".py",
   "mimetype": "text/x-python",
   "name": "python",
   "nbconvert_exporter": "python",
   "pygments_lexer": "ipython3",
   "version": "3.9.12"
  }
 },
 "nbformat": 4,
 "nbformat_minor": 4
}
