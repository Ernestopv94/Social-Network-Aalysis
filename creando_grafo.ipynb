{
 "cells": [
  {
   "cell_type": "code",
   "execution_count": 1,
   "id": "180020ae",
   "metadata": {},
   "outputs": [],
   "source": [
    "import pandas as pd\n",
    "import re"
   ]
  },
  {
   "cell_type": "code",
   "execution_count": 2,
   "id": "aac28458",
   "metadata": {},
   "outputs": [],
   "source": [
    "# Devulve una lista con los usernames mencionados en el tweet\n",
    "def getMentions(row):\n",
    "    row.loc['tweet'] = re.findall(r'[@]\\w+', row.loc['tweet'])\n",
    "    return row"
   ]
  },
  {
   "cell_type": "code",
   "execution_count": 3,
   "id": "c148952f",
   "metadata": {},
   "outputs": [],
   "source": [
    "# Elimina los @ del target\n",
    "def cleanTarget(row):\n",
    "    row.loc['target'] = row.loc['target'][1:]\n",
    "    return row"
   ]
  },
  {
   "cell_type": "code",
   "execution_count": 4,
   "id": "5000dec9",
   "metadata": {},
   "outputs": [],
   "source": [
    "# Obtiene una lista con los nombres de usuario de los concejales\n",
    "lista_concejales = pd.read_csv('concejales.csv')['username'].tolist()"
   ]
  },
  {
   "cell_type": "code",
   "execution_count": 9,
   "id": "b1dbd2e4",
   "metadata": {
    "scrolled": true
   },
   "outputs": [],
   "source": [
    "df = pd.read_csv('tweets_concejales.csv')\n",
    "\n",
    "# Cogemos las columnas que nos interesan\n",
    "df = df[['id','date','time','username','tweet']]\n",
    "\n",
    "# Une las columnas date y time en una sola\n",
    "df['start'] = pd.to_datetime(df['date'] + ' ' +  df['time'])\n",
    "\n",
    "df.drop(['date', 'time'], axis=1, inplace=True)\n",
    "\n",
    "# Elimina los tweets de antes del inicio de la actual legislatura (twint no lo hace bien)\n",
    "df = df[df['start'] > '2019-06-15']\n",
    "\n",
    "# Borramos duplicados\n",
    "df.drop_duplicates(subset=None, keep='first', inplace=True)\n",
    "df.drop(['id'], axis=1, inplace=True)\n",
    "\n",
    "# Saca los usuarios mencionados del texto de los tweets\n",
    "df = df.apply(getMentions, axis=1)\n",
    "\n",
    "# Cambia nombres de columnas\n",
    "df.rename(columns={\"username\": \"source\", \"tweet\": \"target\"}, inplace=True)\n",
    "\n",
    "# Explotamos los targets para que cada fila corresponda con una interación\n",
    "df = df.explode('target',ignore_index=True)\n",
    "\n",
    "# Quita el @ de los target\n",
    "df = df.apply(cleanTarget, axis=1)\n",
    "\n",
    "# Quita las interacciones con personas que no son de la red\n",
    "df = df[df[\"target\"].isin(lista_concejales)]\n",
    "\n",
    "# Pasa todos los target a minúscula\n",
    "df['target'] = df['target'].str.lower()"
   ]
  },
  {
   "cell_type": "code",
   "execution_count": 6,
   "id": "5c78069a",
   "metadata": {},
   "outputs": [],
   "source": [
    "df.to_csv('grafo_concejales.csv', index=False)"
   ]
  }
 ],
 "metadata": {
  "kernelspec": {
   "display_name": "Python 3 (ipykernel)",
   "language": "python",
   "name": "python3"
  },
  "language_info": {
   "codemirror_mode": {
    "name": "ipython",
    "version": 3
   },
   "file_extension": ".py",
   "mimetype": "text/x-python",
   "name": "python",
   "nbconvert_exporter": "python",
   "pygments_lexer": "ipython3",
   "version": "3.9.12"
  }
 },
 "nbformat": 4,
 "nbformat_minor": 5
}
